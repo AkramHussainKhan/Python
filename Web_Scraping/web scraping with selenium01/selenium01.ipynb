{
 "cells": [
  {
   "cell_type": "markdown",
   "metadata": {},
   "source": [
    "# Web scrapping with selenium\n",
    "\n",
    "We are trying to scrape data from of televisions from [daraz](https://www.daraz.com.bd/televisions/?spm=a2a0e.home.cate_7.1.735212f70hPqYs)"
   ]
  },
  {
   "cell_type": "markdown",
   "metadata": {},
   "source": [
    "First we install and load the required libraries"
   ]
  },
  {
   "cell_type": "code",
   "execution_count": null,
   "metadata": {},
   "outputs": [],
   "source": [
    "%pip install selenium\n",
    "%pip install webdriver_manager\n",
    "%pip install pandas"
   ]
  },
  {
   "cell_type": "code",
   "execution_count": 1,
   "metadata": {},
   "outputs": [],
   "source": [
    "from selenium import webdriver\n",
    "from time import sleep\n",
    "import pandas as pd"
   ]
  },
  {
   "cell_type": "markdown",
   "metadata": {},
   "source": [
    "## Here we go\n",
    "Here we are doing for one page to check it it works correctly."
   ]
  },
  {
   "cell_type": "code",
   "execution_count": 3,
   "metadata": {},
   "outputs": [
    {
     "name": "stdout",
     "output_type": "stream",
     "text": [
      "2023-12-22\n"
     ]
    }
   ],
   "source": [
    "from datetime import date\n",
    "today = str(date.today())\n",
    "print(today)"
   ]
  },
  {
   "cell_type": "code",
   "execution_count": 2,
   "metadata": {},
   "outputs": [],
   "source": [
    "driver = webdriver.Chrome()"
   ]
  },
  {
   "cell_type": "code",
   "execution_count": 4,
   "metadata": {},
   "outputs": [],
   "source": [
    "url =\"https://www.daraz.com.bd/televisions/?spm=a2a0e.home.cate_7.1.735212f70hPqYs\""
   ]
  },
  {
   "cell_type": "code",
   "execution_count": 5,
   "metadata": {},
   "outputs": [],
   "source": [
    "driver.get(url)"
   ]
  },
  {
   "cell_type": "markdown",
   "metadata": {},
   "source": [
    "Here we try to find information using `xpath`."
   ]
  },
  {
   "cell_type": "code",
   "execution_count": 6,
   "metadata": {},
   "outputs": [],
   "source": [
    "tvs = driver.find_elements('xpath','//div[@data-spm=\"sku\"]/div') \n",
    "all_tvs = []\n",
    "for tv_idx , tv in enumerate(tvs,1):\n",
    "    title = driver.find_element('xpath',f'(//div[@class=\"title--wFj93\"]/a)[{tv_idx}]')\n",
    "    dis_price = driver.find_element('xpath',f'(//div[@class=\"price--NVB62\"]/span)[{tv_idx}]')\n",
    "    try:\n",
    "        pre_price = driver.find_element('xpath', f'(//del[@class=\"currency--GVKjl\"])[{tv_idx}]').text\n",
    "    except:\n",
    "        pre_price = \" \"    \n",
    "    data = {\n",
    "        'title' : title.text,\n",
    "        \"url\" : title.get_attribute('href'),\n",
    "        'DIS_price' : dis_price.text,\n",
    "        'pre_price' : pre_price\n",
    "        \n",
    "    }\n",
    "    all_tvs.append(data)\n"
   ]
  },
  {
   "cell_type": "markdown",
   "metadata": {},
   "source": [
    "The code work nicely."
   ]
  },
  {
   "cell_type": "code",
   "execution_count": 8,
   "metadata": {},
   "outputs": [
    {
     "data": {
      "text/html": [
       "<div>\n",
       "<style scoped>\n",
       "    .dataframe tbody tr th:only-of-type {\n",
       "        vertical-align: middle;\n",
       "    }\n",
       "\n",
       "    .dataframe tbody tr th {\n",
       "        vertical-align: top;\n",
       "    }\n",
       "\n",
       "    .dataframe thead th {\n",
       "        text-align: right;\n",
       "    }\n",
       "</style>\n",
       "<table border=\"1\" class=\"dataframe\">\n",
       "  <thead>\n",
       "    <tr style=\"text-align: right;\">\n",
       "      <th></th>\n",
       "      <th>title</th>\n",
       "      <th>url</th>\n",
       "      <th>DIS_price</th>\n",
       "      <th>pre_price</th>\n",
       "    </tr>\n",
       "  </thead>\n",
       "  <tbody>\n",
       "    <tr>\n",
       "      <th>0</th>\n",
       "      <td>SP 24 Inch ULTRA SLIM HD LED TV</td>\n",
       "      <td>https://www.daraz.com.bd/products/sp-24-inch-u...</td>\n",
       "      <td>৳ 7,800</td>\n",
       "      <td>৳ 10,500</td>\n",
       "    </tr>\n",
       "    <tr>\n",
       "      <th>1</th>\n",
       "      <td>Sony Plus 32'' 4K Supported Android Smart Tele...</td>\n",
       "      <td>https://www.daraz.com.bd/products/sony-plus-32...</td>\n",
       "      <td>৳ 16,450</td>\n",
       "      <td>৳ 19,900</td>\n",
       "    </tr>\n",
       "    <tr>\n",
       "      <th>2</th>\n",
       "      <td>SONY PLUS 43 android version 9.0 Ram 2GB/16GB ...</td>\n",
       "      <td>https://www.daraz.com.bd/products/sony-plus-43...</td>\n",
       "      <td>৳ 19,989</td>\n",
       "      <td>৳ 33,000</td>\n",
       "    </tr>\n",
       "    <tr>\n",
       "      <th>3</th>\n",
       "      <td>Exceptional Quality - 24 Inch Hd LED Televisio...</td>\n",
       "      <td>https://www.daraz.com.bd/products/exceptional-...</td>\n",
       "      <td>৳ 8,200</td>\n",
       "      <td>৳ 8,900</td>\n",
       "    </tr>\n",
       "    <tr>\n",
       "      <th>4</th>\n",
       "      <td>Haier 32\" Android 11 HD Smart LED TV (H32K66GH...</td>\n",
       "      <td>https://www.daraz.com.bd/products/haier-32-and...</td>\n",
       "      <td>৳ 28,900</td>\n",
       "      <td>৳ 18,990</td>\n",
       "    </tr>\n",
       "  </tbody>\n",
       "</table>\n",
       "</div>"
      ],
      "text/plain": [
       "                                               title  \\\n",
       "0                    SP 24 Inch ULTRA SLIM HD LED TV   \n",
       "1  Sony Plus 32'' 4K Supported Android Smart Tele...   \n",
       "2  SONY PLUS 43 android version 9.0 Ram 2GB/16GB ...   \n",
       "3  Exceptional Quality - 24 Inch Hd LED Televisio...   \n",
       "4  Haier 32\" Android 11 HD Smart LED TV (H32K66GH...   \n",
       "\n",
       "                                                 url DIS_price pre_price  \n",
       "0  https://www.daraz.com.bd/products/sp-24-inch-u...   ৳ 7,800  ৳ 10,500  \n",
       "1  https://www.daraz.com.bd/products/sony-plus-32...  ৳ 16,450  ৳ 19,900  \n",
       "2  https://www.daraz.com.bd/products/sony-plus-43...  ৳ 19,989  ৳ 33,000  \n",
       "3  https://www.daraz.com.bd/products/exceptional-...   ৳ 8,200   ৳ 8,900  \n",
       "4  https://www.daraz.com.bd/products/haier-32-and...  ৳ 28,900  ৳ 18,990  "
      ]
     },
     "execution_count": 8,
     "metadata": {},
     "output_type": "execute_result"
    }
   ],
   "source": [
    "df = pd.DataFrame(all_tvs)\n",
    "df.head()"
   ]
  },
  {
   "cell_type": "markdown",
   "metadata": {},
   "source": [
    "* DIS_price is price after discount and \n",
    "* pre_price is actual price."
   ]
  },
  {
   "cell_type": "markdown",
   "metadata": {},
   "source": [
    "## Pagination\n",
    "\n",
    "Now we are trying to find common patterns for pagination. So, we just paste few pages link to observe the common pattern."
   ]
  },
  {
   "cell_type": "code",
   "execution_count": null,
   "metadata": {},
   "outputs": [],
   "source": [
    "https://www.daraz.com.bd/televisions/?spm=a2a0e.searchlistcategory.pagination.1.752e3c08muG6MS\n",
    "https://www.daraz.com.bd/televisions/?page=2&spm=a2a0e.searchlistcategory.pagination.1.752e3c08muG6MS\n",
    "https://www.daraz.com.bd/televisions/?spm=a2a0e.searchlistcategory.pagination.3.68183c08F58cJk&page=3\n",
    "https://www.daraz.com.bd/televisions/?spm=a2a0e.searchlistcategory.pagination.4.6ba73c08Y7tHn5&page=4\n",
    "https://www.daraz.com.bd/televisions/?spm=a2a0e.searchlistcategory.pagination.5.54f43c08l5EoQq&page=5\n"
   ]
  },
  {
   "cell_type": "markdown",
   "metadata": {},
   "source": [
    "Now we are trying to get  values from all the pages."
   ]
  },
  {
   "cell_type": "code",
   "execution_count": 22,
   "metadata": {},
   "outputs": [],
   "source": [
    "all_tvs = []\n",
    "for page in range(1,46):\n",
    "    url = f'https://www.daraz.com.bd/televisions/?spm=a2a0e.searchlistcategory.pagination.5.54f43c08l5EoQq&page={page}' \n",
    "    driver.get(url)\n",
    "    sleep(5)\n",
    "    tvs = driver.find_elements('xpath','//div[@data-spm=\"sku\"]/div') \n",
    "    for tv_idx , tv in enumerate(tvs,1):\n",
    "        title = driver.find_element('xpath',f'(//div[@class=\"title--wFj93\"]/a)[{tv_idx}]')\n",
    "        dis_price = driver.find_element('xpath',f'(//div[@class=\"price--NVB62\"]/span)[{tv_idx}]')\n",
    "        try:\n",
    "            pre_price = driver.find_element('xpath', f'(//del[@class=\"currency--GVKjl\"])[{tv_idx}]').text\n",
    "        except:\n",
    "            pre_price = \" \"    \n",
    "        data = {\n",
    "            'title' : title.text,\n",
    "            \"url\" : title.get_attribute('href'),\n",
    "            'DIS_price' : dis_price.text,\n",
    "            'pre_price' : pre_price\n",
    "            \n",
    "        }\n",
    "        all_tvs.append(data)"
   ]
  },
  {
   "cell_type": "code",
   "execution_count": 23,
   "metadata": {},
   "outputs": [],
   "source": [
    "df = pd.DataFrame(all_tvs)\n",
    "df.to_csv(\"darza_Televisions.csv\", index = False)"
   ]
  },
  {
   "cell_type": "code",
   "execution_count": 25,
   "metadata": {},
   "outputs": [
    {
     "data": {
      "text/plain": [
       "(1800, 4)"
      ]
     },
     "execution_count": 25,
     "metadata": {},
     "output_type": "execute_result"
    }
   ],
   "source": [
    "df.shape"
   ]
  },
  {
   "cell_type": "markdown",
   "metadata": {},
   "source": [
    "We can see that we have got 1800 values from 45 pages."
   ]
  }
 ],
 "metadata": {
  "kernelspec": {
   "display_name": "Python 3",
   "language": "python",
   "name": "python3"
  },
  "language_info": {
   "codemirror_mode": {
    "name": "ipython",
    "version": 3
   },
   "file_extension": ".py",
   "mimetype": "text/x-python",
   "name": "python",
   "nbconvert_exporter": "python",
   "pygments_lexer": "ipython3",
   "version": "3.12.0"
  }
 },
 "nbformat": 4,
 "nbformat_minor": 2
}
