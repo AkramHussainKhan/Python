{
 "cells": [
  {
   "cell_type": "markdown",
   "metadata": {},
   "source": [
    "Data scraping with selenium from [ryans](https://www.ryanscomputers.com/category/laptop-all-laptop)"
   ]
  },
  {
   "cell_type": "markdown",
   "metadata": {},
   "source": [
    "Installing and loading required libraries."
   ]
  },
  {
   "cell_type": "code",
   "execution_count": null,
   "metadata": {},
   "outputs": [],
   "source": [
    "%pip install ChromeDriverManager\n"
   ]
  },
  {
   "cell_type": "code",
   "execution_count": 30,
   "metadata": {},
   "outputs": [
    {
     "name": "stdout",
     "output_type": "stream",
     "text": [
      "2023-12-27\n"
     ]
    }
   ],
   "source": [
    "from datetime import date\n",
    "today = str(date.today())\n",
    "print(today)"
   ]
  },
  {
   "cell_type": "code",
   "execution_count": 1,
   "metadata": {},
   "outputs": [],
   "source": [
    "from selenium import webdriver\n",
    "from selenium.webdriver.chrome.service import Service\n",
    "from webdriver_manager.chrome import ChromeDriverManager\n",
    "import time\n"
   ]
  },
  {
   "cell_type": "markdown",
   "metadata": {},
   "source": [
    "Here first, we are checking for one url"
   ]
  },
  {
   "cell_type": "code",
   "execution_count": 2,
   "metadata": {},
   "outputs": [],
   "source": [
    "option = webdriver.ChromeOptions()\n",
    "driver = webdriver.Chrome(service = Service(ChromeDriverManager().install()),options=option)"
   ]
  },
  {
   "cell_type": "code",
   "execution_count": 3,
   "metadata": {},
   "outputs": [],
   "source": [
    "driver.get(\"https://www.ryanscomputers.com/category/laptop-all-laptop?limit=100&osp=1&st=0\")"
   ]
  },
  {
   "cell_type": "markdown",
   "metadata": {},
   "source": [
    "We take second page for finding the pattern for pagination"
   ]
  },
  {
   "cell_type": "markdown",
   "metadata": {},
   "source": [
    "https://www.ryanscomputers.com/category/laptop-all-laptop?limit=100&osp=1&st=0&page=2"
   ]
  },
  {
   "cell_type": "markdown",
   "metadata": {},
   "source": [
    "We are trying to make similar  patters for all page"
   ]
  },
  {
   "cell_type": "code",
   "execution_count": 3,
   "metadata": {},
   "outputs": [
    {
     "name": "stdout",
     "output_type": "stream",
     "text": [
      "https://www.ryanscomputers.com/category/laptop-all-laptop?limit=100&osp=1&st=0&page=1\n",
      "https://www.ryanscomputers.com/category/laptop-all-laptop?limit=100&osp=1&st=0&page=2\n",
      "https://www.ryanscomputers.com/category/laptop-all-laptop?limit=100&osp=1&st=0&page=3\n",
      "https://www.ryanscomputers.com/category/laptop-all-laptop?limit=100&osp=1&st=0&page=4\n"
     ]
    }
   ],
   "source": [
    "#pagination\n",
    "for page in range(1,5):\n",
    "    url = f'https://www.ryanscomputers.com/category/laptop-all-laptop?limit=100&osp=1&st=0&page={page}'\n",
    "    print(url)"
   ]
  },
  {
   "cell_type": "markdown",
   "metadata": {},
   "source": [
    "Here, we are tyring to get specific url of each laptop."
   ]
  },
  {
   "cell_type": "code",
   "execution_count": 4,
   "metadata": {},
   "outputs": [],
   "source": [
    "links = driver.find_elements('xpath', '//p[@class=\"card-text p-0 m-0 grid-view-text\"]/a')\n"
   ]
  },
  {
   "cell_type": "code",
   "execution_count": 5,
   "metadata": {},
   "outputs": [
    {
     "name": "stdout",
     "output_type": "stream",
     "text": [
      "https://www.ryanscomputers.com/lenovo-ideapad-d330-10igl-intel-cdc-n4020-mineral-grey-laptop\n",
      "https://www.ryanscomputers.com/hp-15s-fq3617tu-intel-cdc-n4500-15.6-inch-fhd-display-silver-laptop\n",
      "https://www.ryanscomputers.com/hp-15s-eq1578au-amd-athlon-silver-3050u-15.6-inch-fhd-display-silver-laptop\n",
      "https://www.ryanscomputers.com/lenovo-ideapad-1-15ada7-amd-ryzen-3-3250u-15.6-inch-fhd-display-cloud-grey-laptop\n",
      "https://www.ryanscomputers.com/lenovo-ideapad-slim-3i-15itl-11th-gen-intel-core-i3-1115g4-15.6-inch-fhd-display-arctic-grey-laptop\n",
      "https://www.ryanscomputers.com/acer-aspire-lite-al15-51-intel-core-i3-1115g4-8gb-15.6-inch-fhd-display-titanium-gray-laptop\n",
      "https://www.ryanscomputers.com/dell-inspiron-15-3515-amd-ryzen-3-3250u-15.6-inch-fhd-display-silver-laptop\n",
      "https://www.ryanscomputers.com/hp-15s-eq2618au-amd-ryzen-3-5300u-15.6-inch-hd-display-spruce-blue-laptop\n",
      "https://www.ryanscomputers.com/hp-15s-du3611tu-intel-core-i3-1125g4-15.6-inch-fhd-display-jet-black-laptop\n",
      "https://www.ryanscomputers.com/hp-15s-fq5486tu-intel-core-i3-1215u-15.6-inch-fhd-display-black-laptop\n",
      "https://www.ryanscomputers.com/acer-extensa-15-ex215-23-r2jd-amd-ryzen-3-7320u-15.6-inch-fhd-display-steel-gray-laptop\n",
      "https://www.ryanscomputers.com/acer-aspire-3-a315-59-34to-intel-core-i3-1215u-15.6-inch-fhd-display-moonstone-purple-laptop\n",
      "https://www.ryanscomputers.com/acer-aspire-3-a315-59-390p-intel-core-i3-1215u-15.6-inch-fhd-display-pure-silver-laptop\n",
      "https://www.ryanscomputers.com/huawei-matebook-d-15-11th-gen-intel-core-i3-1115g4-15.6-inch-fhd-display-silver-laptop\n",
      "https://www.ryanscomputers.com/acer-aspire-lite-al15-51-amd-ryzen-5-5500u-15.6-inch-fhd-display-titanium-gray-laptop\n",
      "https://www.ryanscomputers.com/acer-aspire-lite-al15-51-intel-core-i5-1155g7-15.6-inch-fhd-display-titanium-gray-laptop\n",
      "https://www.ryanscomputers.com/asus-vivobook-15-x1500ea-intel-core-i3-1115g4-1tb-hdd-15.6-inch-fhd-wv-display-indie-black-laptop\n",
      "https://www.ryanscomputers.com/acer-aspire-5-5p-a515-58p-intel-core-i3-1305u-15.6-inch-fhd-ips-display-steel-gray-laptop\n",
      "https://www.ryanscomputers.com/asus-vivobook-15-x1502za-intel-core-i3-1215u-15.6-inch-fhd-display-terra-cotta-laptop\n",
      "https://www.ryanscomputers.com/dell-inspiron-15-3520-intel-core-i3-1215u-15.6-inch-fhd-display-platinum-silver-laptop\n",
      "https://www.ryanscomputers.com/hp-15s-fq5786tu-intel-core-i3-1215u15.6-inch-fhd-display-silver-laptop\n",
      "https://www.ryanscomputers.com/asus-x515ea-intel-core-i5-1135g7-15.6-inch-fhd-display-slate-grey-laptop-ej2460w-x515ea\n",
      "https://www.ryanscomputers.com/asus-x515ea-intel-core-i5-1135g7-15.6-inch-fhd-display-peacock-blue-laptop\n",
      "https://www.ryanscomputers.com/lenovo-ideapad-slim-3-15abr8-amd-ryzen-5-7530u-15.6-inch-fhd-antiglare-ips-display-abyss-blue-laptop\n",
      "https://www.ryanscomputers.com/dell-latitude-15-3520-11th-gen-intel-core-i5-1135g7-15.6-inch-hd-display-black-laptop\n",
      "https://www.ryanscomputers.com/acer-aspire-3-a315-59-5031-intel-core-i5-1235u-15.6-inch-fhd-display-pure-silver-laptop\n",
      "https://www.ryanscomputers.com/huawei-matebook-b3-520-15.6-inch-space-gray-laptop\n",
      "https://www.ryanscomputers.com/huawei-matebook-d-15-intel-core-i5-1135g7-15.6-inch-fhd-silver-laptop\n",
      "https://www.ryanscomputers.com/lenovo-ideapad-slim-3-15abr8-amd-ryzen-7-7730u-15.6-inch-fhd-antiglare-ips-display-arctic-grey-laptop\n",
      "https://www.ryanscomputers.com/acer-travelmate-p214-53-72wa-14-inch-shale-black-laptop\n",
      "https://www.ryanscomputers.com/lenovo-ideapad-slim-3i-15itl6-intel-core-i7-1165g7-15.6-inch-fhd-antiglare-display-arctic-grey-laptop-82h803euin\n",
      "https://www.ryanscomputers.com/dell-inspiron-15-3525-amd-ryzen-7-5825u-15.6-inch-fhd-display-platinum-silver-laptop\n",
      "https://www.ryanscomputers.com/msi-modern-15-a11mu-intel-core-i7-1195g7-15.6-inch-fhd-ips-display-carbon-gray-laptop\n",
      "https://www.ryanscomputers.com/msi-modern-14-c11m-11th-gen-intel-core-i7-1195g7-14-inch-fhd-ips-60hz-display-classic-black-laptop\n",
      "https://www.ryanscomputers.com/lenovo-ideapad-slim-3i-15itl6-intel-core-i7-1165g7-15.6-inch-fhd-antiglare-led-display-abyss-blue-laptop\n",
      "https://www.ryanscomputers.com/dell-inspiron-15-3511-intel-core-i7-1165g7-512gb-ssd-15.6-inch-fhd-display-platinum-silver-laptop\n",
      "https://www.ryanscomputers.com/lenovo-ideapad-slim-3i-15itl6-intel-core-i7-1165g7-15.6-inch-fhd-antiglare-display-arctic-grey-laptop\n",
      "https://www.ryanscomputers.com/gigabyte-gaming-g5-ke-intel-core-i5-12500h-15.6-inch-fhd-display-512gb-ssd-matte-black-gaming-laptop\n",
      "https://www.ryanscomputers.com/microsoft-surface-laptop-studio-intel-core-i7-11370h-14.4-inch-pixelsense-flow-multi-touch-display-platinum-surface-laptop\n",
      "https://www.ryanscomputers.com/apple-macbook-pro-late-2021-apple-m1-max-chip-4tb-ssd-space-gray-laptop\n",
      "https://www.ryanscomputers.com/lenovo-ideapad-gaming-3i-15ihu-intel-core-i7-11370h-shadow-black-gaming-laptop\n",
      "https://www.ryanscomputers.com/chuwi-herobook-pro-intel-cdc-n4020-14.1-inch-fhd-display-grey-laptop\n",
      "https://www.ryanscomputers.com/chuwi-gemibook-xpro-intel-core-n100-14.1-inch-fhd-display-grey-laptop\n",
      "https://www.ryanscomputers.com/lenovo-ideapad-slim-3i-15igl-intel-cdc-n4020-15.6-inch-hd-display-platinum-grey-laptop-81wq00q2in-2y\n",
      "https://www.ryanscomputers.com/chuwi-gemibook-plus-intel-core-n100-15.6-inch-fhd-display-grey-laptop\n",
      "https://www.ryanscomputers.com/lenovo-ideapad-slim-3i-15igl-intel-cdc-n4020-platinum-grey-laptop\n",
      "https://www.ryanscomputers.com/asus-e210ma-intel-cdc-n4020-11.6-inch-hd-display-peacock-blue-laptop\n",
      "https://www.ryanscomputers.com/asus-15-p1511cma-intel-cdc-n4020-15.6-inch-hd-display-slate-grey-laptop\n",
      "https://www.ryanscomputers.com/asus-x415ka-intel-cdc-n4500-14-inch-slate-grey-laptop\n",
      "https://www.ryanscomputers.com/asus-x515ka-intel-cdc-n4500-15.6-inch-fhd-display-slate-grey-laptop\n",
      "https://www.ryanscomputers.com/asus-x515ma-intel-cdc-n4020-15.6-inch-fhd-wv-display-transparent-silver-laptop\n",
      "https://www.ryanscomputers.com/asus-x515ka-intel-cdc-n4500-4gb-ddr4-15.6-inch-display-fhd-transparent-silver-laptop\n",
      "https://www.ryanscomputers.com/asus-x515ma-intel-cdc-n4020-15.6-inch-fhd-display-slate-grey-laptop\n",
      "https://www.ryanscomputers.com/hp-15s-fq3234tu-intel-cdc-n4500-15.6-inch-fhd-display-silver-laptop--5b356pa-2y\n",
      "https://www.ryanscomputers.com/asus-vivobook-14-e410ma-peacock-blue-laptop\n",
      "https://www.ryanscomputers.com/asus-vivobook-14-e410ma-intel-cdc-n4020-14-inch-hd-display-black-laptop\n",
      "https://www.ryanscomputers.com/asus-m515da-amd-ryzen-3-3250u-15.6-inch-hd-led-display-slate-grey-laptop\n",
      "https://www.ryanscomputers.com/acer-extensa-15-ex215-54-34se-11th-gen-intel-core-i3-1115g4-15.6-inch-fhd-display-charcoal-black-laptop\n",
      "https://www.ryanscomputers.com/asus-e510ma-star-black-laptop\n",
      "https://www.ryanscomputers.com/asus-x515ja-intel-core-i3-15.6-inch-grey-laptop\n",
      "https://www.ryanscomputers.com/lenovo-ideapad-slim-3i-15iil-intel-core-i3-1005g1-4gb-ram-15.6-inch-fhd-display-platinum-grey-laptop\n",
      "https://www.ryanscomputers.com/asus-d415da-amd-ryzen-3-3250u-8gb-ram-1tb-hdd-14-inch-hd-display-slate-grey-laptop\n",
      "https://www.ryanscomputers.com/asus-m515da-amd-ryzen-3-3250u-15.6-inch-hd-display-slate-grey-laptop\n",
      "https://www.ryanscomputers.com/chuwi-minibook-x-2-in-1-intel-core-n100-10.5-inch-fhd-plus-wuxga-touch-display-grey-laptop\n",
      "https://www.ryanscomputers.com/asus-d515da-amd-ryzen-3-3250u-15.6-inch-fhd-display-slate-grey-laptop-d515da-ej1576w\n",
      "https://www.ryanscomputers.com/asus-d515da-amd-ryzen-3-3250u-15.6-inch-fhd-display-peacock-blue-laptop\n",
      "https://www.ryanscomputers.com/asus-d515da-amd-ryzen-3-3250u-15.6-inch-fhd-display-win-11-slate-grey-laptop\n",
      "https://www.ryanscomputers.com/chuwi-ubook-x-2-in-1-intel-core-i5-10210y-12-inch-2k-touch-display-grey-laptop\n",
      "https://www.ryanscomputers.com/asus-d515da-amd-ryzen-3-3250u-8gb-ram-512gb-ssd-15.6-inch-fhd-display-slate-grey-laptop\n",
      "https://www.ryanscomputers.com/asus-d515da-amd-ryzen-3-3250u-8gb-ram-512gb-ssd-15.6-inch-fhd-display-peacock-blue-laptop\n",
      "https://www.ryanscomputers.com/asus-x515ea-intel-core-i3-1115g4-15.6-inch-fhd-display-peacock-blue-laptop\n",
      "https://www.ryanscomputers.com/asus-x515ea-peacock-blue-laptop\n",
      "https://www.ryanscomputers.com/lenovo-ideapad-slim-3i-15itl6-core-i3-1115g4-15.6-inch-fhd-display-arctic-grey-laptop\n",
      "https://www.ryanscomputers.com/asus-x515ea-11th-gen-intel-core-i3-1115g4-15.6-inch-fhd-display-peacock-blue-laptop\n",
      "https://www.ryanscomputers.com/lenovo-ideapad-slim-3i-15itl-intel-core-i3-1115g4-8gb-ram-256gb-ssd-15.6-inch-fhd-display-arctic-grey-laptop\n",
      "https://www.ryanscomputers.com/lenovo-ideapad-1-15amn7-amd-ryzen-3-7320u-15.6-inch-fhd-display-cloud-grey-laptop\n",
      "https://www.ryanscomputers.com/lenovo-ideapad-1-15amn7-amd-ryzen-3-7320u-15.6-inch-fhd-display-sand-laptop\n",
      "https://www.ryanscomputers.com/lenovo-ideapad-slim-3i-15itl-intel-core-i3-1115g4-512gb-ssd-15.6-inch-fhd-display-arctic-grey-laptop\n",
      "https://www.ryanscomputers.com/msi-modern-14-c11m-11th-gen-intel-core-i3-1115g4-14-inch-fhd-ips-display-classic-black-laptop\n",
      "https://www.ryanscomputers.com/asus-x415ea-11th-gen-intel-core-i3-4gb-ddr4-14-inch-display-slate-grey-laptop\n",
      "https://www.ryanscomputers.com/lenovo-ideapad-slim-3i-14iau7-intel-core-i3-1215u-14-inch-fhd-display-misty-blue-laptop\n",
      "https://www.ryanscomputers.com/lenovo-ideapad-slim-3i-14iau7-intel-core-i3-1215u-14-inch-fhd-display-abyss-blue-laptop\n",
      "https://www.ryanscomputers.com/lenovo-ideapad-slim-3i-14iau7-intel-core-i3-1215u-14-inch-fhd-display-arctic-grey-laptop\n",
      "https://www.ryanscomputers.com/lenovo-ideapad-slim-3i-14itl-14-inch-arctic-grey-laptop\n",
      "https://www.ryanscomputers.com/asus-x415ea-11th-gen-intel-core-i3-1115g4-14-inch-fhd-display-slate-grey-laptop\n",
      "https://www.ryanscomputers.com/asus-expertbook-p2451fa-intel-core-i3-10110u-14-inch-fhd-led-display-star-black-laptop-ek3345-p2451fa\n",
      "https://www.ryanscomputers.com/lenovo-ideapad-slim-3i-15itl6-intel-core-i3-1115g4-15.6-inch-fhd-display-arctic-grey-laptop\n",
      "https://www.ryanscomputers.com/lenovo-ideapad-slim-3i-14itl6-intel-core-i3-1115g4-14-inch-fhd-display-arctic-grey-laptop\n",
      "https://www.ryanscomputers.com/acer-aspire-3-a315-59-39p4-intel-core-i3-1215u-15.6-inch-fhd-display-willow-green-laptop\n",
      "https://www.ryanscomputers.com/acer-aspire-3-a315-59-12th-gen-intel-core-i3-15.6-inch-fhd-display-pure-silver-laptop-nx.k6tsi.001\n",
      "https://www.ryanscomputers.com/hp-250-g8-11th-gen-intel-core-i3-1115g4-15.6-inch-fhd-display-silver-laptop\n",
      "https://www.ryanscomputers.com/hp-15s-du3560tu-intel-core-i3-1125g4-15.6-inch-fhd-antiglare-display-silver-laptop\n",
      "https://www.ryanscomputers.com/acer-aspire-3-a315-510p-intel-core-i3-n305-15.6-inch-fhd-display-pure-silver-laptop-nx.kdhsi.001\n",
      "https://www.ryanscomputers.com/infinix-in-book-y2-plus-intel-core-i5-1155g7-8gb-ram-512gb-ssd-15.6-inch-fhd-display-silver-laptop\n",
      "https://www.ryanscomputers.com/infinix-inbook-y2-plus-intel-core-i5-1155g7-8gb-ram-512gb-ssd-15.6-inch-fhd-display-grey-laptop\n",
      "https://www.ryanscomputers.com/lenovo-v15-gen-3-intel-core-i3-1215u-15.6-inch-fhd-display-iron-grey-laptop\n",
      "https://www.ryanscomputers.com/huawei-matebook-b3-520-intel-core-i3-1115g4-15.6-inch-fhd-display-space-gray-laptop\n",
      "https://www.ryanscomputers.com/asus-vivobook-s15-s513ea-intel-core-i3-1115g4-4gb-ddr4-15.6-inch-fhd-oled-display-indie-black-laptop\n",
      "https://www.ryanscomputers.com/asus-vivobook-15-k513ea-intel-core-i3-1115g4-15.6-inch-fhd-oled-display-hearty-gold-laptop\n",
      "https://www.ryanscomputers.com/avita-liber-v14-intel-core-i5-1135g7-8gb-ram-512gb-ssd-14-inch-fhd-display-star-silver-laptop\n"
     ]
    }
   ],
   "source": [
    "for link in links:\n",
    "    print(link.get_attribute('href'))"
   ]
  },
  {
   "cell_type": "markdown",
   "metadata": {},
   "source": [
    "This are the all laptop pages links of first page."
   ]
  },
  {
   "cell_type": "code",
   "execution_count": 6,
   "metadata": {},
   "outputs": [
    {
     "data": {
      "text/plain": [
       "100"
      ]
     },
     "execution_count": 6,
     "metadata": {},
     "output_type": "execute_result"
    }
   ],
   "source": [
    "len(links)"
   ]
  },
  {
   "cell_type": "markdown",
   "metadata": {},
   "source": [
    "We are creating list of all laptops of all(4) page"
   ]
  },
  {
   "cell_type": "code",
   "execution_count": 7,
   "metadata": {},
   "outputs": [],
   "source": [
    "#pagination\n",
    "urls = []\n",
    "for page in range(1,5):\n",
    "    url = f'https://www.ryanscomputers.com/category/laptop-all-laptop?limit=100&osp=1&st=0&page={page}'\n",
    "    driver.get(url)\n",
    "    time.sleep(3)\n",
    "    links = driver.find_elements('xpath', '//p[@class=\"card-text p-0 m-0 grid-view-text\"]/a')\n",
    "    for link in links:\n",
    "        urls.append(link.get_attribute('href'))"
   ]
  },
  {
   "cell_type": "code",
   "execution_count": 8,
   "metadata": {},
   "outputs": [
    {
     "data": {
      "text/plain": [
       "373"
      ]
     },
     "execution_count": 8,
     "metadata": {},
     "output_type": "execute_result"
    }
   ],
   "source": [
    "len(urls)"
   ]
  },
  {
   "cell_type": "markdown",
   "metadata": {},
   "source": [
    "WE can see that till date we have 373 laptops and its urls.  It changes actually as they updates on their website."
   ]
  },
  {
   "cell_type": "markdown",
   "metadata": {},
   "source": [
    "Now we are trying to find the data from one laptop."
   ]
  },
  {
   "cell_type": "code",
   "execution_count": 9,
   "metadata": {},
   "outputs": [],
   "source": [
    "driver.get(urls[0])"
   ]
  },
  {
   "cell_type": "markdown",
   "metadata": {},
   "source": [
    "We tried to extract some data such as title, regular price, speial price, some features etc."
   ]
  },
  {
   "cell_type": "code",
   "execution_count": 10,
   "metadata": {},
   "outputs": [
    {
     "data": {
      "text/plain": [
       "'Lenovo IdeaPad D330 10IGL Intel CDC N4020 4GB RAM 128GB eMMC 10.1 Inch HD IPS Touch Display Mineral Grey Laptop'"
      ]
     },
     "execution_count": 10,
     "metadata": {},
     "output_type": "execute_result"
    }
   ],
   "source": [
    "title = driver.find_element('xpath','//h1[@itemprop=\"name\"]').text\n",
    "title"
   ]
  },
  {
   "cell_type": "code",
   "execution_count": 11,
   "metadata": {},
   "outputs": [
    {
     "data": {
      "text/plain": [
       "38630"
      ]
     },
     "execution_count": 11,
     "metadata": {},
     "output_type": "execute_result"
    }
   ],
   "source": [
    "regular_price = int(driver.find_element('xpath','//span[@class=\"rp-block mb-2\"]/span[contains(text(),\"Regular Price\")]').text.replace('Regular Price Tk ','').replace(',',''))\n",
    "regular_price"
   ]
  },
  {
   "cell_type": "code",
   "execution_count": 12,
   "metadata": {},
   "outputs": [
    {
     "data": {
      "text/plain": [
       "35800"
      ]
     },
     "execution_count": 12,
     "metadata": {},
     "output_type": "execute_result"
    }
   ],
   "source": [
    "special_price = int(driver.find_element('xpath','//span[@class=\"sp-block\"]').text.replace('Special Price Tk ','').replace(',',''))\n",
    "special_price"
   ]
  },
  {
   "cell_type": "code",
   "execution_count": 13,
   "metadata": {},
   "outputs": [
    {
     "data": {
      "text/plain": [
       "3219"
      ]
     },
     "execution_count": 13,
     "metadata": {},
     "output_type": "execute_result"
    }
   ],
   "source": [
    "monthly_emi = int(driver.find_element('xpath','//a[contains(text(),\"Monthly EMI\")]').text.replace('Monthly EMI Tk','').replace(',',''))\n",
    "monthly_emi"
   ]
  },
  {
   "cell_type": "code",
   "execution_count": 14,
   "metadata": {},
   "outputs": [],
   "source": [
    "all_featurs = driver.find_elements('xpath','//span[@class=\"att-title context\"]') \n"
   ]
  },
  {
   "cell_type": "code",
   "execution_count": 15,
   "metadata": {},
   "outputs": [
    {
     "name": "stdout",
     "output_type": "stream",
     "text": [
      "1 Brand\n",
      "2 Model\n",
      "3 Laptop Series\n",
      "4 Part No\n",
      "5 Processor Brand\n",
      "6 Processor Type.\n",
      "7 Generation\n",
      "8 Processor Model\n",
      "9 Processor Base Frequency\n",
      "10 Processor Max Turbo Frequency\n",
      "11 Processor Core\n",
      "12 Processor Thread\n",
      "13 CPU Cache\n",
      "14 Chipset.\n",
      "15 RAM\n",
      "16 Installed RAM Details\n",
      "17 RAM Type\n",
      "18 RAM Bus (MHz)\n",
      "19 Total RAM Slot\n",
      "20 Empty/Expansion RAM Slot\n",
      "21 Max. RAM Support\n",
      "22 Optane Memory\n",
      "23 Optane Memory Slot\n",
      "24 Storage\n",
      "25 Installed HDD Type\n",
      "26 HDD RPM\n",
      "27 HDD Expansion Slot\n",
      "28 Installed SSD Type\n",
      "29 M.2/SSD Expansion Slot\n",
      "30 Storage Upgrade\n",
      "31 Graphics Chipset\n",
      "32 Graphics Memory Accessibility\n",
      "33 Graphics Memory\n",
      "34 Graphics Memory Type\n",
      "35 Display Size (Inch)\n",
      "36 Display Type\n",
      "37 Display Resolution\n",
      "38 Display Surface\n",
      "39 Touch Screen\n",
      "40 Display Refresh Rate\n",
      "41 Display Bezel\n",
      "42 Display Features\n",
      "43 Secondary Screen Size\n",
      "44 Secondary Screen Technology\n",
      "45 Secondary Screen Resolution\n",
      "46 Optical Drive\n",
      "47 Multimedia Card Slot\n",
      "48 Supported Multimedia Card\n",
      "49 USB 2 Port\n",
      "50 USB 3 Port\n",
      "51 USB C / Thunderbolt Port\n",
      "52 HDMI Port\n",
      "53 Micro HDMI Port\n",
      "54 Mini HDMI Port\n",
      "55 Display Port\n",
      "56 Mini DP Port\n",
      "57 VGA/D-Sub\n",
      "58 Headphone Port\n",
      "59 Microphone Port\n",
      "60 Security Lock Slot\n",
      "61 LAN\n",
      "62 WiFi\n",
      "63 Bluetooth\n",
      "64 Audio Properties\n",
      "65 Speaker\n",
      "66 Microphone.\n",
      "67 WebCam\n",
      "68 Keyboard Layout\n",
      "69 Keyboard Back-lit\n",
      "70 RGB Keyboard\n",
      "71 Num Key pad\n",
      "72 Pointing Device\n",
      "73 Dedicated Navigation key\n",
      "74 Finger Print Sensor\n",
      "75 Face Detection\n",
      "76 TPM\n",
      "77 Security Chip\n",
      "78 Operating System\n",
      "79 Licensed Application\n",
      "80 Body Material\n",
      "81 Device Lighting\n",
      "82 Color\n",
      "83 Dimensions\n",
      "84 Weight (Kg)\n",
      "85 Package Content\n",
      "86 Battery\n",
      "87 Battery Capacity\n",
      "88 Battery Type\n",
      "89 Backup Time\n",
      "90 Power Adapter\n",
      "91 Adapter Type\n",
      "92 Warranty\n",
      "93 Warranty Details\n",
      "94 Warranty Claim Duration (Approximate)\n",
      "95 Best For\n",
      "96 Gaming Feature\n",
      "97 Specialty\n",
      "98 Others\n",
      "99 Country Of Origin\n",
      "100 Made in/ Assemble\n",
      "101 Disclaimer\n"
     ]
    }
   ],
   "source": [
    "for index, feature in enumerate(all_featurs,1):\n",
    "    print(index,feature.text)"
   ]
  },
  {
   "cell_type": "code",
   "execution_count": 16,
   "metadata": {},
   "outputs": [
    {
     "name": "stdout",
     "output_type": "stream",
     "text": [
      "Lenovo\n",
      "Lenovo IdeaPad D330 10IGL\n",
      "128GB eMMC\n"
     ]
    }
   ],
   "source": [
    "for index, value in enumerate(all_featurs,1):\n",
    "    if value.text =='Brand':\n",
    "        brand = driver.find_element('xpath',f'(//span[@class=\"att-value context\"])[{index}]')\n",
    "        print(brand.text)\n",
    "    elif value.text =='Model':\n",
    "        model = driver.find_element('xpath',f'(//span[@class=\"att-value context\"])[{index}]')\n",
    "        print(model.text)\n",
    "    elif value.text =='Storage':\n",
    "        try:\n",
    "            storage = driver.find_element('xpath',f'(//span[@class=\"att-value context\"])[{index}]')\n",
    "            print(storage.text)  \n",
    "        except:\n",
    "            storage = \"NA\"      "
   ]
  },
  {
   "cell_type": "markdown",
   "metadata": {},
   "source": [
    "Among lots of features we extract brand, model and storage for practice purpose."
   ]
  },
  {
   "cell_type": "markdown",
   "metadata": {},
   "source": [
    "Now we are doing the same process for all laptops."
   ]
  },
  {
   "cell_type": "code",
   "execution_count": null,
   "metadata": {},
   "outputs": [],
   "source": [
    "data=[]\n",
    "for url in urls:\n",
    "    driver.get(url)\n",
    "    time.sleep(2)\n",
    "    try:\n",
    "        title = driver.find_element('xpath','//h1[@itemprop=\"name\"]').text\n",
    "    except:\n",
    "        title = 'NA'\n",
    "    try:\n",
    "        reg_price = int(driver.find_element('xpath','//span[@class=\"rp-block mb-2\"]/span[contains(text(),\"Regular Price\")]').text.replace('Regular Price Tk ','').replace(',',''))\n",
    "    except:\n",
    "        reg_price = 'NA'\n",
    "    try:\n",
    "        spe_price = int(driver.find_element('xpath','//span[@class=\"sp-block\"]').text.replace('Special Price Tk ','').replace(',',''))\n",
    "    except:\n",
    "        spe_price = int(driver.find_element('xpath','//span[@class=\"sp-block\"]/span[contains(text(),\"Tk\")]').text.replace('Tk ','').replace(',',''))   \n",
    "    \n",
    "    emi = int(driver.find_element('xpath','//a[contains(text(),\"Monthly EMI\")]').text.replace('Monthly EMI Tk','').replace(',',''))\n",
    "    all_featurs = driver.find_elements('xpath','//span[@class=\"att-title context\"]') \n",
    "    for index, value in enumerate(all_featurs,1):\n",
    "        if value.text =='Brand':\n",
    "            brand = driver.find_element('xpath',f'(//span[@class=\"att-value context\"])[{index}]').text\n",
    "        elif value.text =='Model':\n",
    "            model = driver.find_element('xpath',f'(//span[@class=\"att-value context\"])[{index}]').text\n",
    "        elif value.text =='Storage':\n",
    "            try:\n",
    "                storage = driver.find_element('xpath',f'(//span[@class=\"att-value context\"])[{index}]').text\n",
    "            except:\n",
    "                storage = 'NA'\n",
    "    d = {\n",
    "        'title' : title,\n",
    "        'regukar_price' : reg_price,\n",
    "        'special_price' : spe_price,\n",
    "        'monthly_emi': emi,\n",
    "        'brand' : brand,\n",
    "        'model': model,\n",
    "        'storage' : storage\n",
    "    }  \n",
    "    data.append(d)           "
   ]
  },
  {
   "cell_type": "markdown",
   "metadata": {},
   "source": [
    "After 257 laptops there we faced  problems with `spe-price`, xpath changed or class name changed.  But for now its good we got 257 laptops data."
   ]
  },
  {
   "cell_type": "code",
   "execution_count": 21,
   "metadata": {},
   "outputs": [],
   "source": [
    "import pandas as pd"
   ]
  },
  {
   "cell_type": "code",
   "execution_count": 26,
   "metadata": {},
   "outputs": [],
   "source": [
    "d=pd.DataFrame(data)"
   ]
  },
  {
   "cell_type": "code",
   "execution_count": 27,
   "metadata": {},
   "outputs": [
    {
     "data": {
      "text/html": [
       "<div>\n",
       "<style scoped>\n",
       "    .dataframe tbody tr th:only-of-type {\n",
       "        vertical-align: middle;\n",
       "    }\n",
       "\n",
       "    .dataframe tbody tr th {\n",
       "        vertical-align: top;\n",
       "    }\n",
       "\n",
       "    .dataframe thead th {\n",
       "        text-align: right;\n",
       "    }\n",
       "</style>\n",
       "<table border=\"1\" class=\"dataframe\">\n",
       "  <thead>\n",
       "    <tr style=\"text-align: right;\">\n",
       "      <th></th>\n",
       "      <th>title</th>\n",
       "      <th>regukar_price</th>\n",
       "      <th>special_price</th>\n",
       "      <th>monthly_emi</th>\n",
       "      <th>brand</th>\n",
       "      <th>model</th>\n",
       "      <th>storage</th>\n",
       "    </tr>\n",
       "  </thead>\n",
       "  <tbody>\n",
       "    <tr>\n",
       "      <th>0</th>\n",
       "      <td>Lenovo IdeaPad D330 10IGL Intel CDC N4020 4GB ...</td>\n",
       "      <td>38630</td>\n",
       "      <td>35800</td>\n",
       "      <td>3219</td>\n",
       "      <td>Lenovo</td>\n",
       "      <td>Lenovo IdeaPad D330 10IGL</td>\n",
       "      <td>128GB eMMC</td>\n",
       "    </tr>\n",
       "    <tr>\n",
       "      <th>1</th>\n",
       "      <td>HP 15s-fq3617TU Intel CDC N4500 4GB RAM 256GB ...</td>\n",
       "      <td>46110</td>\n",
       "      <td>42500</td>\n",
       "      <td>3843</td>\n",
       "      <td>HP</td>\n",
       "      <td>HP 15s-fq3617TU</td>\n",
       "      <td>256GB SSD</td>\n",
       "    </tr>\n",
       "    <tr>\n",
       "      <th>2</th>\n",
       "      <td>HP 15s-eq1578AU AMD Athlon Silver 3050U 8GB 25...</td>\n",
       "      <td>51540</td>\n",
       "      <td>47500</td>\n",
       "      <td>4295</td>\n",
       "      <td>HP</td>\n",
       "      <td>HP 15s-eq1578AU</td>\n",
       "      <td>256GB SSD</td>\n",
       "    </tr>\n",
       "    <tr>\n",
       "      <th>3</th>\n",
       "      <td>Lenovo IdeaPad 1 15ADA7 AMD Ryzen 3 3250U 8GB ...</td>\n",
       "      <td>53930</td>\n",
       "      <td>49900</td>\n",
       "      <td>4494</td>\n",
       "      <td>Lenovo</td>\n",
       "      <td>Lenovo IdeaPad 1 15ADA7</td>\n",
       "      <td>512GB SSD</td>\n",
       "    </tr>\n",
       "    <tr>\n",
       "      <th>4</th>\n",
       "      <td>Lenovo IdeaPad Slim 3i 15ITL 11th Gen Intel Co...</td>\n",
       "      <td>55340</td>\n",
       "      <td>51400</td>\n",
       "      <td>4612</td>\n",
       "      <td>Lenovo</td>\n",
       "      <td>Lenovo IdeaPad Slim 3i 15ITL</td>\n",
       "      <td>256GB SSD</td>\n",
       "    </tr>\n",
       "    <tr>\n",
       "      <th>...</th>\n",
       "      <td>...</td>\n",
       "      <td>...</td>\n",
       "      <td>...</td>\n",
       "      <td>...</td>\n",
       "      <td>...</td>\n",
       "      <td>...</td>\n",
       "      <td>...</td>\n",
       "    </tr>\n",
       "    <tr>\n",
       "      <th>75</th>\n",
       "      <td>Lenovo IdeaPad 1 15AMN7 AMD Ryzen 3 7320U 8GB ...</td>\n",
       "      <td>57510</td>\n",
       "      <td>53800</td>\n",
       "      <td>4793</td>\n",
       "      <td>Lenovo</td>\n",
       "      <td>Lenovo IdeaPad 1 15AMN7</td>\n",
       "      <td>512GB SSD</td>\n",
       "    </tr>\n",
       "    <tr>\n",
       "      <th>76</th>\n",
       "      <td>Lenovo IdeaPad 1 15AMN7 AMD Ryzen 3 7320U 8GB ...</td>\n",
       "      <td>57510</td>\n",
       "      <td>53800</td>\n",
       "      <td>4793</td>\n",
       "      <td>Lenovo</td>\n",
       "      <td>Lenovo IdeaPad 1 15AMN7</td>\n",
       "      <td>512GB SSD</td>\n",
       "    </tr>\n",
       "    <tr>\n",
       "      <th>77</th>\n",
       "      <td>Lenovo IdeaPad Slim 3i 15ITL Intel Core i3 111...</td>\n",
       "      <td>58920</td>\n",
       "      <td>54500</td>\n",
       "      <td>4910</td>\n",
       "      <td>Lenovo</td>\n",
       "      <td>Lenovo IdeaPad Slim 3i 15ITL</td>\n",
       "      <td>512GB SSD</td>\n",
       "    </tr>\n",
       "    <tr>\n",
       "      <th>78</th>\n",
       "      <td>MSI Modern 14 C11M Intel Core i3 1115G4 8GB RA...</td>\n",
       "      <td>59130</td>\n",
       "      <td>55000</td>\n",
       "      <td>4928</td>\n",
       "      <td>MSI</td>\n",
       "      <td>MSI Modern 14 C11M</td>\n",
       "      <td>512GB SSD</td>\n",
       "    </tr>\n",
       "    <tr>\n",
       "      <th>79</th>\n",
       "      <td>Asus X415EA Intel Core i3 1115G4 4GB RAM 256GB...</td>\n",
       "      <td>59680</td>\n",
       "      <td>55000</td>\n",
       "      <td>4973</td>\n",
       "      <td>Asus</td>\n",
       "      <td>Asus X415EA</td>\n",
       "      <td>256GB SSD</td>\n",
       "    </tr>\n",
       "  </tbody>\n",
       "</table>\n",
       "<p>80 rows × 7 columns</p>\n",
       "</div>"
      ],
      "text/plain": [
       "                                                title  regukar_price  \\\n",
       "0   Lenovo IdeaPad D330 10IGL Intel CDC N4020 4GB ...          38630   \n",
       "1   HP 15s-fq3617TU Intel CDC N4500 4GB RAM 256GB ...          46110   \n",
       "2   HP 15s-eq1578AU AMD Athlon Silver 3050U 8GB 25...          51540   \n",
       "3   Lenovo IdeaPad 1 15ADA7 AMD Ryzen 3 3250U 8GB ...          53930   \n",
       "4   Lenovo IdeaPad Slim 3i 15ITL 11th Gen Intel Co...          55340   \n",
       "..                                                ...            ...   \n",
       "75  Lenovo IdeaPad 1 15AMN7 AMD Ryzen 3 7320U 8GB ...          57510   \n",
       "76  Lenovo IdeaPad 1 15AMN7 AMD Ryzen 3 7320U 8GB ...          57510   \n",
       "77  Lenovo IdeaPad Slim 3i 15ITL Intel Core i3 111...          58920   \n",
       "78  MSI Modern 14 C11M Intel Core i3 1115G4 8GB RA...          59130   \n",
       "79  Asus X415EA Intel Core i3 1115G4 4GB RAM 256GB...          59680   \n",
       "\n",
       "    special_price  monthly_emi   brand                         model  \\\n",
       "0           35800         3219  Lenovo     Lenovo IdeaPad D330 10IGL   \n",
       "1           42500         3843      HP               HP 15s-fq3617TU   \n",
       "2           47500         4295      HP               HP 15s-eq1578AU   \n",
       "3           49900         4494  Lenovo       Lenovo IdeaPad 1 15ADA7   \n",
       "4           51400         4612  Lenovo  Lenovo IdeaPad Slim 3i 15ITL   \n",
       "..            ...          ...     ...                           ...   \n",
       "75          53800         4793  Lenovo       Lenovo IdeaPad 1 15AMN7   \n",
       "76          53800         4793  Lenovo       Lenovo IdeaPad 1 15AMN7   \n",
       "77          54500         4910  Lenovo  Lenovo IdeaPad Slim 3i 15ITL   \n",
       "78          55000         4928     MSI            MSI Modern 14 C11M   \n",
       "79          55000         4973    Asus                   Asus X415EA   \n",
       "\n",
       "       storage  \n",
       "0   128GB eMMC  \n",
       "1    256GB SSD  \n",
       "2    256GB SSD  \n",
       "3    512GB SSD  \n",
       "4    256GB SSD  \n",
       "..         ...  \n",
       "75   512GB SSD  \n",
       "76   512GB SSD  \n",
       "77   512GB SSD  \n",
       "78   512GB SSD  \n",
       "79   256GB SSD  \n",
       "\n",
       "[80 rows x 7 columns]"
      ]
     },
     "execution_count": 27,
     "metadata": {},
     "output_type": "execute_result"
    }
   ],
   "source": [
    "d.head(80)"
   ]
  },
  {
   "cell_type": "code",
   "execution_count": 28,
   "metadata": {},
   "outputs": [
    {
     "data": {
      "text/plain": [
       "257"
      ]
     },
     "execution_count": 28,
     "metadata": {},
     "output_type": "execute_result"
    }
   ],
   "source": [
    "len(d)"
   ]
  },
  {
   "cell_type": "code",
   "execution_count": 29,
   "metadata": {},
   "outputs": [],
   "source": [
    "d.to_csv('laptops.csv',index = False)"
   ]
  },
  {
   "cell_type": "markdown",
   "metadata": {},
   "source": []
  }
 ],
 "metadata": {
  "kernelspec": {
   "display_name": "Python 3",
   "language": "python",
   "name": "python3"
  },
  "language_info": {
   "codemirror_mode": {
    "name": "ipython",
    "version": 3
   },
   "file_extension": ".py",
   "mimetype": "text/x-python",
   "name": "python",
   "nbconvert_exporter": "python",
   "pygments_lexer": "ipython3",
   "version": "3.12.0"
  }
 },
 "nbformat": 4,
 "nbformat_minor": 2
}
